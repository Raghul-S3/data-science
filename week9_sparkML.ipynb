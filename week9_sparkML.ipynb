{
  "cells": [
    {
      "cell_type": "markdown",
      "id": "d223dbb0",
      "metadata": {
        "id": "d223dbb0"
      },
      "source": [
        "# Importing Libraries"
      ]
    },
    {
      "cell_type": "code",
      "execution_count": 2,
      "id": "1c1aded6",
      "metadata": {
        "id": "1c1aded6"
      },
      "outputs": [],
      "source": [
        "from pyspark.sql import SparkSession\n",
        "from pyspark.sql.functions import avg,countDistinct,count\n",
        "from pyspark.sql import functions as F\n",
        "from pyspark.ml.feature import OneHotEncoder, StringIndexer"
      ]
    },
    {
      "cell_type": "code",
      "source": [
        "!pip install pyspark"
      ],
      "metadata": {
        "colab": {
          "base_uri": "https://localhost:8080/"
        },
        "id": "ETi8yaXPnz8d",
        "outputId": "c718ea9c-975e-4d7a-ea2f-507a4b642e87"
      },
      "id": "ETi8yaXPnz8d",
      "execution_count": 1,
      "outputs": [
        {
          "output_type": "stream",
          "name": "stdout",
          "text": [
            "Collecting pyspark\n",
            "  Downloading pyspark-3.4.1.tar.gz (310.8 MB)\n",
            "\u001b[2K     \u001b[90m━━━━━━━━━━━━━━━━━━━━━━━━━━━━━━━━━━━━━━━\u001b[0m \u001b[32m310.8/310.8 MB\u001b[0m \u001b[31m4.5 MB/s\u001b[0m eta \u001b[36m0:00:00\u001b[0m\n",
            "\u001b[?25h  Preparing metadata (setup.py) ... \u001b[?25l\u001b[?25hdone\n",
            "Requirement already satisfied: py4j==0.10.9.7 in /usr/local/lib/python3.10/dist-packages (from pyspark) (0.10.9.7)\n",
            "Building wheels for collected packages: pyspark\n",
            "  Building wheel for pyspark (setup.py) ... \u001b[?25l\u001b[?25hdone\n",
            "  Created wheel for pyspark: filename=pyspark-3.4.1-py2.py3-none-any.whl size=311285398 sha256=49b98c3c72386c858621abbf906e708a828dafae40a61d1e634cb6372b35fd01\n",
            "  Stored in directory: /root/.cache/pip/wheels/0d/77/a3/ff2f74cc9ab41f8f594dabf0579c2a7c6de920d584206e0834\n",
            "Successfully built pyspark\n",
            "Installing collected packages: pyspark\n",
            "Successfully installed pyspark-3.4.1\n"
          ]
        }
      ]
    },
    {
      "cell_type": "markdown",
      "id": "d2d4a62c",
      "metadata": {
        "id": "d2d4a62c"
      },
      "source": [
        "# Find the Average Purchase amount."
      ]
    },
    {
      "cell_type": "code",
      "execution_count": 11,
      "id": "79441671",
      "metadata": {
        "colab": {
          "base_uri": "https://localhost:8080/"
        },
        "id": "79441671",
        "outputId": "5b97ebc0-96fa-4ae1-80a7-6063767c7028"
      },
      "outputs": [
        {
          "output_type": "stream",
          "name": "stdout",
          "text": [
            "Average train purchase amount:  9263.968712959126\n"
          ]
        }
      ],
      "source": [
        "spark = SparkSession.builder.getOrCreate()\n",
        "\n",
        "# Read the data into a DataFrame\n",
        "train = spark.read.csv(\"train.csv\", header=True, inferSchema=True)\n",
        "test = spark.read.csv(\"test.csv\",header=True, inferSchema=True)\n",
        "# Calculate the average purchase amount\n",
        "train_avg_pur = train.agg(avg(\"Purchase\")).collect()[0][0]\n",
        "# Print the result\n",
        "print(\"Average train purchase amount: \", train_avg_pur,)"
      ]
    },
    {
      "cell_type": "markdown",
      "id": "7a0ed9e7",
      "metadata": {
        "id": "7a0ed9e7"
      },
      "source": [
        "# Find out the count of null values in all the columns"
      ]
    },
    {
      "cell_type": "code",
      "execution_count": 12,
      "id": "8cbd4844",
      "metadata": {
        "id": "8cbd4844"
      },
      "outputs": [],
      "source": [
        "def null_count(data):\n",
        "    column_counts = []\n",
        "    for c in data.columns:\n",
        "        missing_values = data.filter(F.col(c).isNull()).count()\n",
        "        column_counts.append((c, missing_values))\n",
        "    return column_counts"
      ]
    },
    {
      "cell_type": "markdown",
      "id": "5e7754bc",
      "metadata": {
        "id": "5e7754bc"
      },
      "source": [
        "Training Data"
      ]
    },
    {
      "cell_type": "code",
      "execution_count": 13,
      "id": "d0912872",
      "metadata": {
        "id": "d0912872"
      },
      "outputs": [],
      "source": [
        "columns_with_null = null_count(train)"
      ]
    },
    {
      "cell_type": "code",
      "execution_count": 14,
      "id": "ce1e9df9",
      "metadata": {
        "colab": {
          "base_uri": "https://localhost:8080/"
        },
        "id": "ce1e9df9",
        "outputId": "3639327f-e358-4980-a233-de2e3dea912e"
      },
      "outputs": [
        {
          "output_type": "stream",
          "name": "stdout",
          "text": [
            "Train Data Misssing values: \n",
            "('User_ID', 0)\n",
            "('Product_ID', 0)\n",
            "('Gender', 0)\n",
            "('Age', 0)\n",
            "('Occupation', 0)\n",
            "('City_Category', 0)\n",
            "('Stay_In_Current_City_Years', 0)\n",
            "('Marital_Status', 0)\n",
            "('Product_Category_1', 0)\n",
            "('Product_Category_2', 173638)\n",
            "('Product_Category_3', 383247)\n",
            "('Purchase', 0)\n"
          ]
        }
      ],
      "source": [
        "print(\"Train Data Misssing values: \")\n",
        "for c in columns_with_null:\n",
        "    print(c)"
      ]
    },
    {
      "cell_type": "markdown",
      "id": "ee6621e0",
      "metadata": {
        "id": "ee6621e0"
      },
      "source": [
        "Test Data"
      ]
    },
    {
      "cell_type": "code",
      "execution_count": 15,
      "id": "00b3f54a",
      "metadata": {
        "id": "00b3f54a"
      },
      "outputs": [],
      "source": [
        "columns_with_null = null_count(test)"
      ]
    },
    {
      "cell_type": "code",
      "execution_count": 16,
      "id": "a747f21d",
      "metadata": {
        "colab": {
          "base_uri": "https://localhost:8080/"
        },
        "id": "a747f21d",
        "outputId": "0d233c0f-0f2e-4ca0-b507-7d7eec38e4b8"
      },
      "outputs": [
        {
          "output_type": "stream",
          "name": "stdout",
          "text": [
            "Test Data Misssing values: \n",
            "('User_ID', 0)\n",
            "('Product_ID', 0)\n",
            "('Gender', 0)\n",
            "('Age', 0)\n",
            "('Occupation', 0)\n",
            "('City_Category', 0)\n",
            "('Stay_In_Current_City_Years', 0)\n",
            "('Marital_Status', 0)\n",
            "('Product_Category_1', 0)\n",
            "('Product_Category_2', 72344)\n",
            "('Product_Category_3', 162562)\n"
          ]
        }
      ],
      "source": [
        "print(\"Test Data Misssing values: \")\n",
        "for c in columns_with_null:\n",
        "    print(c)"
      ]
    },
    {
      "cell_type": "markdown",
      "id": "ba181d9d",
      "metadata": {
        "id": "ba181d9d"
      },
      "source": [
        "# Handling the missing values."
      ]
    },
    {
      "cell_type": "code",
      "execution_count": 17,
      "id": "64556911",
      "metadata": {
        "id": "64556911"
      },
      "outputs": [],
      "source": [
        "def missing_impute(data):\n",
        "    return data.na.fill({'Product_Category_2': -1,\n",
        "                    'Product_Category_3': -1,})"
      ]
    },
    {
      "cell_type": "markdown",
      "id": "1538b1f4",
      "metadata": {
        "id": "1538b1f4"
      },
      "source": [
        "Training Data"
      ]
    },
    {
      "cell_type": "code",
      "execution_count": 18,
      "id": "81e14490",
      "metadata": {
        "id": "81e14490"
      },
      "outputs": [],
      "source": [
        "train_no_na = missing_impute(train)"
      ]
    },
    {
      "cell_type": "code",
      "execution_count": 19,
      "id": "eec3afb0",
      "metadata": {
        "colab": {
          "base_uri": "https://localhost:8080/"
        },
        "id": "eec3afb0",
        "outputId": "66670d27-a206-4c02-fad7-0a6b6198e0cb"
      },
      "outputs": [
        {
          "output_type": "stream",
          "name": "stdout",
          "text": [
            "+-------+----------+------+----+----------+-------------+--------------------------+--------------+------------------+------------------+------------------+--------+\n",
            "|User_ID|Product_ID|Gender| Age|Occupation|City_Category|Stay_In_Current_City_Years|Marital_Status|Product_Category_1|Product_Category_2|Product_Category_3|Purchase|\n",
            "+-------+----------+------+----+----------+-------------+--------------------------+--------------+------------------+------------------+------------------+--------+\n",
            "|1000001| P00069042|     F|0-17|        10|            A|                         2|             0|                 3|                -1|                -1|    8370|\n",
            "|1000001| P00248942|     F|0-17|        10|            A|                         2|             0|                 1|                 6|                14|   15200|\n",
            "|1000001| P00087842|     F|0-17|        10|            A|                         2|             0|                12|                -1|                -1|    1422|\n",
            "|1000001| P00085442|     F|0-17|        10|            A|                         2|             0|                12|                14|                -1|    1057|\n",
            "|1000002| P00285442|     M| 55+|        16|            C|                        4+|             0|                 8|                -1|                -1|    7969|\n",
            "+-------+----------+------+----+----------+-------------+--------------------------+--------------+------------------+------------------+------------------+--------+\n",
            "only showing top 5 rows\n",
            "\n"
          ]
        }
      ],
      "source": [
        "train_no_na.show(5)"
      ]
    },
    {
      "cell_type": "markdown",
      "id": "3b7b7da5",
      "metadata": {
        "id": "3b7b7da5"
      },
      "source": [
        "Test Data"
      ]
    },
    {
      "cell_type": "code",
      "execution_count": 20,
      "id": "e61d92f3",
      "metadata": {
        "id": "e61d92f3"
      },
      "outputs": [],
      "source": [
        "test_no_na = missing_impute(test)"
      ]
    },
    {
      "cell_type": "code",
      "execution_count": 21,
      "id": "edf879af",
      "metadata": {
        "colab": {
          "base_uri": "https://localhost:8080/"
        },
        "id": "edf879af",
        "outputId": "6f52773f-5eb2-49dc-d14e-8f7661ffe29d"
      },
      "outputs": [
        {
          "output_type": "stream",
          "name": "stdout",
          "text": [
            "+-------+----------+------+-----+----------+-------------+--------------------------+--------------+------------------+------------------+------------------+\n",
            "|User_ID|Product_ID|Gender|  Age|Occupation|City_Category|Stay_In_Current_City_Years|Marital_Status|Product_Category_1|Product_Category_2|Product_Category_3|\n",
            "+-------+----------+------+-----+----------+-------------+--------------------------+--------------+------------------+------------------+------------------+\n",
            "|1000004| P00128942|     M|46-50|         7|            B|                         2|             1|                 1|                11|                -1|\n",
            "|1000009| P00113442|     M|26-35|        17|            C|                         0|             0|                 3|                 5|                -1|\n",
            "|1000010| P00288442|     F|36-45|         1|            B|                        4+|             1|                 5|                14|                -1|\n",
            "|1000010| P00145342|     F|36-45|         1|            B|                        4+|             1|                 4|                 9|                -1|\n",
            "|1000011| P00053842|     F|26-35|         1|            C|                         1|             0|                 4|                 5|                12|\n",
            "+-------+----------+------+-----+----------+-------------+--------------------------+--------------+------------------+------------------+------------------+\n",
            "only showing top 5 rows\n",
            "\n"
          ]
        }
      ],
      "source": [
        "test_no_na.show(5)"
      ]
    },
    {
      "cell_type": "markdown",
      "id": "fafd796a",
      "metadata": {
        "id": "fafd796a"
      },
      "source": [
        "# Count distinct values per column"
      ]
    },
    {
      "cell_type": "markdown",
      "id": "b69bad6d",
      "metadata": {
        "id": "b69bad6d"
      },
      "source": [
        "Train data with na values"
      ]
    },
    {
      "cell_type": "code",
      "execution_count": 22,
      "id": "a7886c2d",
      "metadata": {
        "colab": {
          "base_uri": "https://localhost:8080/"
        },
        "id": "a7886c2d",
        "outputId": "f00b8a7c-03e8-40dd-cbaf-d1a97de92ebd"
      },
      "outputs": [
        {
          "output_type": "stream",
          "name": "stdout",
          "text": [
            "+-------+----------+------+---+----------+-------------+--------------------------+--------------+------------------+------------------+------------------+--------+\n",
            "|User_ID|Product_ID|Gender|Age|Occupation|City_Category|Stay_In_Current_City_Years|Marital_Status|Product_Category_1|Product_Category_2|Product_Category_3|Purchase|\n",
            "+-------+----------+------+---+----------+-------------+--------------------------+--------------+------------------+------------------+------------------+--------+\n",
            "|5891   |3631      |2     |7  |21        |3            |5                         |2             |20                |17                |15                |18105   |\n",
            "+-------+----------+------+---+----------+-------------+--------------------------+--------------+------------------+------------------+------------------+--------+\n",
            "\n"
          ]
        }
      ],
      "source": [
        "distinct_train = train.agg(*(countDistinct(column).alias(column) for column in train.columns))\n",
        "distinct_train.show(truncate=False)"
      ]
    },
    {
      "cell_type": "markdown",
      "id": "34183e15",
      "metadata": {
        "id": "34183e15"
      },
      "source": [
        "Test data with na values"
      ]
    },
    {
      "cell_type": "code",
      "execution_count": 23,
      "id": "28eedeb8",
      "metadata": {
        "colab": {
          "base_uri": "https://localhost:8080/"
        },
        "id": "28eedeb8",
        "outputId": "dac07bec-e62d-44a6-8596-ad93482f66eb"
      },
      "outputs": [
        {
          "output_type": "stream",
          "name": "stdout",
          "text": [
            "+-------+----------+------+---+----------+-------------+--------------------------+--------------+------------------+------------------+------------------+\n",
            "|User_ID|Product_ID|Gender|Age|Occupation|City_Category|Stay_In_Current_City_Years|Marital_Status|Product_Category_1|Product_Category_2|Product_Category_3|\n",
            "+-------+----------+------+---+----------+-------------+--------------------------+--------------+------------------+------------------+------------------+\n",
            "|5891   |3491      |2     |7  |21        |3            |5                         |2             |18                |17                |15                |\n",
            "+-------+----------+------+---+----------+-------------+--------------------------+--------------+------------------+------------------+------------------+\n",
            "\n"
          ]
        }
      ],
      "source": [
        "distinct_test = test.agg(*(countDistinct(column).alias(column) for column in test.columns))\n",
        "distinct_test.show(truncate=False)"
      ]
    },
    {
      "cell_type": "markdown",
      "id": "830e8341",
      "metadata": {
        "id": "830e8341"
      },
      "source": [
        "Train data without na values"
      ]
    },
    {
      "cell_type": "code",
      "execution_count": 24,
      "id": "b3697255",
      "metadata": {
        "colab": {
          "base_uri": "https://localhost:8080/"
        },
        "id": "b3697255",
        "outputId": "da593c3c-6049-46a0-c92e-cfc65cfd196c"
      },
      "outputs": [
        {
          "output_type": "stream",
          "name": "stdout",
          "text": [
            "+-------+----------+------+---+----------+-------------+--------------------------+--------------+------------------+------------------+------------------+--------+\n",
            "|User_ID|Product_ID|Gender|Age|Occupation|City_Category|Stay_In_Current_City_Years|Marital_Status|Product_Category_1|Product_Category_2|Product_Category_3|Purchase|\n",
            "+-------+----------+------+---+----------+-------------+--------------------------+--------------+------------------+------------------+------------------+--------+\n",
            "|5891   |3631      |2     |7  |21        |3            |5                         |2             |20                |18                |16                |18105   |\n",
            "+-------+----------+------+---+----------+-------------+--------------------------+--------------+------------------+------------------+------------------+--------+\n",
            "\n"
          ]
        }
      ],
      "source": [
        "distinct_train_no_na = train_no_na.agg(*(countDistinct(column).alias(column) for column in train_no_na.columns))\n",
        "distinct_train_no_na.show(truncate=False)"
      ]
    },
    {
      "cell_type": "markdown",
      "id": "d0027726",
      "metadata": {
        "id": "d0027726"
      },
      "source": [
        "Test data without na values"
      ]
    },
    {
      "cell_type": "code",
      "execution_count": 25,
      "id": "5fa7a35b",
      "metadata": {
        "colab": {
          "base_uri": "https://localhost:8080/"
        },
        "id": "5fa7a35b",
        "outputId": "81e8526b-f63f-4cec-a5b7-4b3e3a57cc1a"
      },
      "outputs": [
        {
          "output_type": "stream",
          "name": "stdout",
          "text": [
            "+-------+----------+------+---+----------+-------------+--------------------------+--------------+------------------+------------------+------------------+\n",
            "|User_ID|Product_ID|Gender|Age|Occupation|City_Category|Stay_In_Current_City_Years|Marital_Status|Product_Category_1|Product_Category_2|Product_Category_3|\n",
            "+-------+----------+------+---+----------+-------------+--------------------------+--------------+------------------+------------------+------------------+\n",
            "|5891   |3491      |2     |7  |21        |3            |5                         |2             |18                |18                |16                |\n",
            "+-------+----------+------+---+----------+-------------+--------------------------+--------------+------------------+------------------+------------------+\n",
            "\n"
          ]
        }
      ],
      "source": [
        "distinct_test_no_na = test_no_na.agg(*(countDistinct(column).alias(column) for column in test_no_na.columns))\n",
        "distinct_test_no_na.show(truncate=False)"
      ]
    },
    {
      "cell_type": "markdown",
      "id": "ef8006cf",
      "metadata": {
        "id": "ef8006cf"
      },
      "source": [
        "# Count category values within each categorical columns"
      ]
    },
    {
      "cell_type": "code",
      "execution_count": 29,
      "id": "c5c636cc",
      "metadata": {
        "id": "c5c636cc"
      },
      "outputs": [],
      "source": [
        "def counts(data):\n",
        "    category_counts = {\n",
        "        \"Gender\": data.groupBy(\"Gender\").agg(count(\"*\").alias(\"Count\")),\n",
        "        \"Age\": data.groupBy(\"Age\").agg(count(\"*\").alias(\"Count\")),\n",
        "        \"City_Category\": data.groupBy(\"City_Category\").agg(count(\"*\").alias(\"Count\")),\n",
        "        \"Stay_In_Current_City_Years\": data.groupBy(\"Stay_In_Current_City_Years\").agg(count(\"*\").alias(\"Count\")),\n",
        "        \"Marital_Status\": data.groupBy(\"Marital_Status\").agg(count(\"*\").alias(\"Count\"))\n",
        "    }\n",
        "    return category_counts.items()\n"
      ]
    },
    {
      "cell_type": "markdown",
      "id": "2c52e068",
      "metadata": {
        "id": "2c52e068"
      },
      "source": [
        "Train data"
      ]
    },
    {
      "cell_type": "code",
      "execution_count": 27,
      "id": "5d29a412",
      "metadata": {
        "id": "5d29a412"
      },
      "outputs": [],
      "source": [
        "train_count=counts(train)"
      ]
    },
    {
      "cell_type": "code",
      "execution_count": 28,
      "id": "0308ba69",
      "metadata": {
        "colab": {
          "base_uri": "https://localhost:8080/"
        },
        "id": "0308ba69",
        "outputId": "6cfe7378-1afd-44e3-cc31-3611bfad3254"
      },
      "outputs": [
        {
          "output_type": "stream",
          "name": "stdout",
          "text": [
            "Category value counts for Gender:\n",
            "+------+------+\n",
            "|Gender|Count |\n",
            "+------+------+\n",
            "|F     |135809|\n",
            "|M     |414259|\n",
            "+------+------+\n",
            "\n",
            "Category value counts for Age:\n",
            "+-----+------+\n",
            "|Age  |Count |\n",
            "+-----+------+\n",
            "|18-25|99660 |\n",
            "|26-35|219587|\n",
            "|0-17 |15102 |\n",
            "|46-50|45701 |\n",
            "|51-55|38501 |\n",
            "|36-45|110013|\n",
            "|55+  |21504 |\n",
            "+-----+------+\n",
            "\n",
            "Category value counts for City_Category:\n",
            "+-------------+------+\n",
            "|City_Category|Count |\n",
            "+-------------+------+\n",
            "|B            |231173|\n",
            "|C            |171175|\n",
            "|A            |147720|\n",
            "+-------------+------+\n",
            "\n",
            "Category value counts for Stay_In_Current_City_Years:\n",
            "+--------------------------+------+\n",
            "|Stay_In_Current_City_Years|Count |\n",
            "+--------------------------+------+\n",
            "|3                         |95285 |\n",
            "|0                         |74398 |\n",
            "|4+                        |84726 |\n",
            "|1                         |193821|\n",
            "|2                         |101838|\n",
            "+--------------------------+------+\n",
            "\n",
            "Category value counts for Marital_Status:\n",
            "+--------------+------+\n",
            "|Marital_Status|Count |\n",
            "+--------------+------+\n",
            "|1             |225337|\n",
            "|0             |324731|\n",
            "+--------------+------+\n",
            "\n"
          ]
        }
      ],
      "source": [
        "for column, counts in train_count:\n",
        "    print(f\"Category value counts for {column}:\")\n",
        "    counts.show(truncate=False)"
      ]
    },
    {
      "cell_type": "markdown",
      "id": "32018ddf",
      "metadata": {
        "id": "32018ddf"
      },
      "source": [
        "Test Data"
      ]
    },
    {
      "cell_type": "code",
      "execution_count": 30,
      "id": "c2284ca0",
      "metadata": {
        "id": "c2284ca0"
      },
      "outputs": [],
      "source": [
        "test_count=counts(test)"
      ]
    },
    {
      "cell_type": "code",
      "execution_count": 31,
      "id": "f9e0f396",
      "metadata": {
        "colab": {
          "base_uri": "https://localhost:8080/"
        },
        "id": "f9e0f396",
        "outputId": "ead5db76-3632-41ac-8fc3-5bd12bea95b8"
      },
      "outputs": [
        {
          "output_type": "stream",
          "name": "stdout",
          "text": [
            "Category value counts for Gender:\n",
            "+------+------+\n",
            "|Gender|Count |\n",
            "+------+------+\n",
            "|F     |57827 |\n",
            "|M     |175772|\n",
            "+------+------+\n",
            "\n",
            "Category value counts for Age:\n",
            "+-----+-----+\n",
            "|Age  |Count|\n",
            "+-----+-----+\n",
            "|18-25|42293|\n",
            "|26-35|93428|\n",
            "|0-17 |6232 |\n",
            "|46-50|19577|\n",
            "|51-55|16283|\n",
            "|36-45|46711|\n",
            "|55+  |9075 |\n",
            "+-----+-----+\n",
            "\n",
            "Category value counts for City_Category:\n",
            "+-------------+-----+\n",
            "|City_Category|Count|\n",
            "+-------------+-----+\n",
            "|B            |98566|\n",
            "|C            |72509|\n",
            "|A            |62524|\n",
            "+-------------+-----+\n",
            "\n",
            "Category value counts for Stay_In_Current_City_Years:\n",
            "+--------------------------+-----+\n",
            "|Stay_In_Current_City_Years|Count|\n",
            "+--------------------------+-----+\n",
            "|3                         |40143|\n",
            "|0                         |31318|\n",
            "|4+                        |35945|\n",
            "|1                         |82604|\n",
            "|2                         |43589|\n",
            "+--------------------------+-----+\n",
            "\n",
            "Category value counts for Marital_Status:\n",
            "+--------------+------+\n",
            "|Marital_Status|Count |\n",
            "+--------------+------+\n",
            "|1             |95792 |\n",
            "|0             |137807|\n",
            "+--------------+------+\n",
            "\n"
          ]
        }
      ],
      "source": [
        "for column, counts in test_count:\n",
        "    print(f\"Category value counts for {column}:\")\n",
        "    counts.show(truncate=False)"
      ]
    },
    {
      "cell_type": "markdown",
      "id": "8427c13a",
      "metadata": {
        "id": "8427c13a"
      },
      "source": [
        "# Calculate the average Purchase for categorical columns:"
      ]
    },
    {
      "cell_type": "code",
      "execution_count": 32,
      "id": "faf78788",
      "metadata": {
        "id": "faf78788"
      },
      "outputs": [],
      "source": [
        "def avg_pur(data):\n",
        "    average_purchase = {\n",
        "    \"Gender\": data.groupBy(\"Gender\").agg(avg(\"Purchase\").alias(\"Average_Purchase\")),\n",
        "    \"Age\": data.groupBy(\"Age\").agg(avg(\"Purchase\").alias(\"Average_Purchase\")),\n",
        "    \"City_Category\": data.groupBy(\"City_Category\").agg(avg(\"Purchase\").alias(\"Average_Purchase\")),\n",
        "    \"Stay_In_Current_City_Years\": data.groupBy(\"Stay_In_Current_City_Years\").agg(avg(\"Purchase\").alias(\"Average_Purchase\")),\n",
        "    \"Marital_Status\": data.groupBy(\"Marital_Status\").agg(avg(\"Purchase\").alias(\"Average_Purchase\"))\n",
        "}\n",
        "    return average_purchase.items()"
      ]
    },
    {
      "cell_type": "code",
      "execution_count": 33,
      "id": "cca546ae",
      "metadata": {
        "id": "cca546ae"
      },
      "outputs": [],
      "source": [
        "train_avg=avg_pur(train)"
      ]
    },
    {
      "cell_type": "code",
      "execution_count": 34,
      "id": "93d25060",
      "metadata": {
        "colab": {
          "base_uri": "https://localhost:8080/"
        },
        "id": "93d25060",
        "outputId": "70b7b2f1-7903-4b7d-8c73-2dd826fae33a"
      },
      "outputs": [
        {
          "output_type": "stream",
          "name": "stdout",
          "text": [
            "Average purchase for Gender:\n",
            "+------+-----------------+\n",
            "|Gender|Average_Purchase |\n",
            "+------+-----------------+\n",
            "|F     |8734.565765155476|\n",
            "|M     |9437.526040472265|\n",
            "+------+-----------------+\n",
            "\n",
            "\n",
            "Average purchase for Age:\n",
            "+-----+-----------------+\n",
            "|Age  |Average_Purchase |\n",
            "+-----+-----------------+\n",
            "|18-25|9169.663606261289|\n",
            "|26-35|9252.690632869888|\n",
            "|0-17 |8933.464640444974|\n",
            "|46-50|9208.625697468327|\n",
            "|51-55|9534.808030960236|\n",
            "|36-45|9331.350694917874|\n",
            "|55+  |9336.280459449405|\n",
            "+-----+-----------------+\n",
            "\n",
            "\n",
            "Average purchase for City_Category:\n",
            "+-------------+-----------------+\n",
            "|City_Category|Average_Purchase |\n",
            "+-------------+-----------------+\n",
            "|B            |9151.300562781986|\n",
            "|C            |9719.92099313568 |\n",
            "|A            |8911.939216084484|\n",
            "+-------------+-----------------+\n",
            "\n",
            "\n",
            "Average purchase for Stay_In_Current_City_Years:\n",
            "+--------------------------+-----------------+\n",
            "|Stay_In_Current_City_Years|Average_Purchase |\n",
            "+--------------------------+-----------------+\n",
            "|3                         |9286.904119221284|\n",
            "|0                         |9180.075122987177|\n",
            "|4+                        |9275.59887165687 |\n",
            "|1                         |9250.145923300364|\n",
            "|2                         |9320.429810090536|\n",
            "+--------------------------+-----------------+\n",
            "\n",
            "\n",
            "Average purchase for Marital_Status:\n",
            "+--------------+-----------------+\n",
            "|Marital_Status|Average_Purchase |\n",
            "+--------------+-----------------+\n",
            "|1             |9261.174574082374|\n",
            "|0             |9265.907618921507|\n",
            "+--------------+-----------------+\n",
            "\n",
            "\n"
          ]
        }
      ],
      "source": [
        "for column, averages in train_avg:\n",
        "    print(f\"Average purchase for {column}:\")\n",
        "    averages.show(truncate=False)\n",
        "    print()"
      ]
    },
    {
      "cell_type": "markdown",
      "id": "6ef3fbaf",
      "metadata": {
        "id": "6ef3fbaf"
      },
      "source": [
        "# Label Encoding"
      ]
    },
    {
      "cell_type": "markdown",
      "id": "36777be7",
      "metadata": {
        "id": "36777be7"
      },
      "source": [
        "Train data"
      ]
    },
    {
      "cell_type": "code",
      "execution_count": 35,
      "id": "5694182e",
      "metadata": {
        "colab": {
          "base_uri": "https://localhost:8080/"
        },
        "id": "5694182e",
        "outputId": "d84b6074-a1e3-4ad2-d192-c7fbcc1673a7"
      },
      "outputs": [
        {
          "output_type": "stream",
          "name": "stdout",
          "text": [
            "+-------+----------+------+----+----------+-------------+--------------------------+--------------+------------------+------------------+------------------+--------+------+---------+-----------------------------+----------------+\n",
            "|User_ID|Product_ID|Gender| Age|Occupation|City_Category|Stay_In_Current_City_Years|Marital_Status|Product_Category_1|Product_Category_2|Product_Category_3|Purchase|Age_le|Gender_le|Stay_In_Current_City_Years_le|City_Category_le|\n",
            "+-------+----------+------+----+----------+-------------+--------------------------+--------------+------------------+------------------+------------------+--------+------+---------+-----------------------------+----------------+\n",
            "|1000001| P00069042|     F|0-17|        10|            A|                         2|             0|                 3|                -1|                -1|    8370|   6.0|      1.0|                          1.0|             2.0|\n",
            "|1000001| P00248942|     F|0-17|        10|            A|                         2|             0|                 1|                 6|                14|   15200|   6.0|      1.0|                          1.0|             2.0|\n",
            "|1000001| P00087842|     F|0-17|        10|            A|                         2|             0|                12|                -1|                -1|    1422|   6.0|      1.0|                          1.0|             2.0|\n",
            "|1000001| P00085442|     F|0-17|        10|            A|                         2|             0|                12|                14|                -1|    1057|   6.0|      1.0|                          1.0|             2.0|\n",
            "|1000002| P00285442|     M| 55+|        16|            C|                        4+|             0|                 8|                -1|                -1|    7969|   5.0|      0.0|                          3.0|             1.0|\n",
            "+-------+----------+------+----+----------+-------------+--------------------------+--------------+------------------+------------------+------------------+--------+------+---------+-----------------------------+----------------+\n",
            "only showing top 5 rows\n",
            "\n"
          ]
        }
      ],
      "source": [
        "LE_age = StringIndexer(inputCol=\"Age\",outputCol=\"Age_le\",handleInvalid=\"skip\")\n",
        "LE_train = LE_age.fit(train_no_na)\n",
        "train_le = LE_train.transform(train_no_na)\n",
        "\n",
        "LE_Gender = StringIndexer(inputCol=\"Gender\",outputCol=\"Gender_le\",handleInvalid=\"skip\")\n",
        "LE_train = LE_Gender.fit(train_le)\n",
        "train_le = LE_train.transform(train_le)\n",
        "\n",
        "LE_Stay_In_Current_City_Years = StringIndexer(inputCol=\"Stay_In_Current_City_Years\",outputCol=\"Stay_In_Current_City_Years_le\",handleInvalid=\"skip\")\n",
        "LE_train = LE_Stay_In_Current_City_Years.fit(train_le)\n",
        "train_le = LE_train.transform(train_le)\n",
        "\n",
        "LE_City_Category = StringIndexer(inputCol=\"City_Category\",outputCol=\"City_Category_le\",handleInvalid=\"skip\")\n",
        "LE_train = LE_City_Category.fit(train_le)\n",
        "train_le = LE_train.transform(train_le)\n",
        "\n",
        "train_le.show(5)"
      ]
    },
    {
      "cell_type": "markdown",
      "id": "02847dec",
      "metadata": {
        "id": "02847dec"
      },
      "source": [
        "Test Data"
      ]
    },
    {
      "cell_type": "code",
      "execution_count": 36,
      "id": "93119b21",
      "metadata": {
        "colab": {
          "base_uri": "https://localhost:8080/"
        },
        "id": "93119b21",
        "outputId": "25378007-e3a1-49d9-c188-5ca0f85023b7"
      },
      "outputs": [
        {
          "output_type": "stream",
          "name": "stdout",
          "text": [
            "+-------+----------+------+-----+----------+-------------+--------------------------+--------------+------------------+------------------+------------------+------+---------+-----------------------------+----------------+\n",
            "|User_ID|Product_ID|Gender|  Age|Occupation|City_Category|Stay_In_Current_City_Years|Marital_Status|Product_Category_1|Product_Category_2|Product_Category_3|Age_le|Gender_le|Stay_In_Current_City_Years_le|City_Category_le|\n",
            "+-------+----------+------+-----+----------+-------------+--------------------------+--------------+------------------+------------------+------------------+------+---------+-----------------------------+----------------+\n",
            "|1000004| P00128942|     M|46-50|         7|            B|                         2|             1|                 1|                11|                -1|   3.0|      0.0|                          1.0|             0.0|\n",
            "|1000009| P00113442|     M|26-35|        17|            C|                         0|             0|                 3|                 5|                -1|   0.0|      0.0|                          4.0|             1.0|\n",
            "|1000010| P00288442|     F|36-45|         1|            B|                        4+|             1|                 5|                14|                -1|   1.0|      1.0|                          3.0|             0.0|\n",
            "|1000010| P00145342|     F|36-45|         1|            B|                        4+|             1|                 4|                 9|                -1|   1.0|      1.0|                          3.0|             0.0|\n",
            "|1000011| P00053842|     F|26-35|         1|            C|                         1|             0|                 4|                 5|                12|   0.0|      1.0|                          0.0|             1.0|\n",
            "+-------+----------+------+-----+----------+-------------+--------------------------+--------------+------------------+------------------+------------------+------+---------+-----------------------------+----------------+\n",
            "only showing top 5 rows\n",
            "\n"
          ]
        }
      ],
      "source": [
        "LE_age = StringIndexer(inputCol=\"Age\",outputCol=\"Age_le\",handleInvalid=\"skip\")\n",
        "LE_test = LE_age.fit(test_no_na)\n",
        "test_le = LE_test.transform(test_no_na)\n",
        "\n",
        "LE_Gender = StringIndexer(inputCol=\"Gender\",outputCol=\"Gender_le\",handleInvalid=\"skip\")\n",
        "LE_test = LE_Gender.fit(test_le)\n",
        "test_le = LE_test.transform(test_le)\n",
        "\n",
        "LE_Stay_In_Current_City_Years = StringIndexer(inputCol=\"Stay_In_Current_City_Years\",outputCol=\"Stay_In_Current_City_Years_le\",handleInvalid=\"skip\")\n",
        "LE_test = LE_Stay_In_Current_City_Years.fit(test_le)\n",
        "test_le = LE_test.transform(test_le)\n",
        "\n",
        "LE_City_Category = StringIndexer(inputCol=\"City_Category\",outputCol=\"City_Category_le\",handleInvalid=\"skip\")\n",
        "LE_test = LE_City_Category.fit(test_le)\n",
        "test_le = LE_test.transform(test_le)\n",
        "\n",
        "test_le.show(5)"
      ]
    },
    {
      "cell_type": "markdown",
      "id": "04683ad5",
      "metadata": {
        "id": "04683ad5"
      },
      "source": [
        "# One hot encoding"
      ]
    },
    {
      "cell_type": "markdown",
      "id": "5f14299c",
      "metadata": {
        "id": "5f14299c"
      },
      "source": [
        "Train Data"
      ]
    },
    {
      "cell_type": "code",
      "execution_count": 37,
      "id": "1fa807a5",
      "metadata": {
        "colab": {
          "base_uri": "https://localhost:8080/"
        },
        "id": "1fa807a5",
        "outputId": "732ef62a-9c46-4488-95ef-1f4bbe6c4cc7"
      },
      "outputs": [
        {
          "output_type": "stream",
          "name": "stdout",
          "text": [
            "+-------+----------+------+----+----------+-------------+--------------------------+--------------+------------------+------------------+------------------+--------+------+---------+-----------------------------+----------------+-------------+-------------+-----------------+---------------+\n",
            "|User_ID|Product_ID|Gender| Age|Occupation|City_Category|Stay_In_Current_City_Years|Marital_Status|Product_Category_1|Product_Category_2|Product_Category_3|Purchase|Age_le|Gender_le|Stay_In_Current_City_Years_le|City_Category_le|Occupation_le|   Gender_OHE|City_Category_OHE| Occupation_OHE|\n",
            "+-------+----------+------+----+----------+-------------+--------------------------+--------------+------------------+------------------+------------------+--------+------+---------+-----------------------------+----------------+-------------+-------------+-----------------+---------------+\n",
            "|1000001| P00069042|     F|0-17|        10|            A|                         2|             0|                 3|                -1|                -1|    8370|   6.0|      1.0|                          1.0|             2.0|         12.0|    (1,[],[])|        (2,[],[])|(20,[12],[1.0])|\n",
            "|1000001| P00248942|     F|0-17|        10|            A|                         2|             0|                 1|                 6|                14|   15200|   6.0|      1.0|                          1.0|             2.0|         12.0|    (1,[],[])|        (2,[],[])|(20,[12],[1.0])|\n",
            "|1000001| P00087842|     F|0-17|        10|            A|                         2|             0|                12|                -1|                -1|    1422|   6.0|      1.0|                          1.0|             2.0|         12.0|    (1,[],[])|        (2,[],[])|(20,[12],[1.0])|\n",
            "|1000001| P00085442|     F|0-17|        10|            A|                         2|             0|                12|                14|                -1|    1057|   6.0|      1.0|                          1.0|             2.0|         12.0|    (1,[],[])|        (2,[],[])|(20,[12],[1.0])|\n",
            "|1000002| P00285442|     M| 55+|        16|            C|                        4+|             0|                 8|                -1|                -1|    7969|   5.0|      0.0|                          3.0|             1.0|          9.0|(1,[0],[1.0])|    (2,[1],[1.0])| (20,[9],[1.0])|\n",
            "+-------+----------+------+----+----------+-------------+--------------------------+--------------+------------------+------------------+------------------+--------+------+---------+-----------------------------+----------------+-------------+-------------+-----------------+---------------+\n",
            "only showing top 5 rows\n",
            "\n"
          ]
        }
      ],
      "source": [
        "LE_Occupation = StringIndexer(inputCol=\"Occupation\",outputCol=\"Occupation_le\",handleInvalid=\"skip\")\n",
        "LE_train = LE_Occupation.fit(train_le)\n",
        "train_le = LE_train.transform(train_le)\n",
        "\n",
        "OHE_train = OneHotEncoder(inputCol=\"Gender_le\",outputCol=\"Gender_OHE\")\n",
        "OHE_obj = OHE_train.fit(train_le)\n",
        "encoded_train = OHE_obj.transform(train_le)\n",
        "\n",
        "OHE_train = OneHotEncoder(inputCol=\"City_Category_le\",outputCol=\"City_Category_OHE\")\n",
        "OHE_obj = OHE_train.fit(encoded_train)\n",
        "encoded_train = OHE_obj.transform(encoded_train)\n",
        "\n",
        "OHE_train = OneHotEncoder(inputCol=\"Occupation_le\",outputCol=\"Occupation_OHE\")\n",
        "OHE_obj = OHE_train.fit(encoded_train)\n",
        "encoded_train = OHE_obj.transform(encoded_train)\n",
        "\n",
        "encoded_train.show(5)"
      ]
    },
    {
      "cell_type": "markdown",
      "id": "4949b38e",
      "metadata": {
        "id": "4949b38e"
      },
      "source": [
        "Test Data"
      ]
    },
    {
      "cell_type": "code",
      "execution_count": 38,
      "id": "9ef521e7",
      "metadata": {
        "colab": {
          "base_uri": "https://localhost:8080/"
        },
        "id": "9ef521e7",
        "outputId": "6afaa56c-1a06-49d7-ef10-9dcc11c9af0b"
      },
      "outputs": [
        {
          "output_type": "stream",
          "name": "stdout",
          "text": [
            "+-------+----------+------+-----+----------+-------------+--------------------------+--------------+------------------+------------------+------------------+------+---------+-----------------------------+----------------+-------------+-------------+-----------------+--------------+\n",
            "|User_ID|Product_ID|Gender|  Age|Occupation|City_Category|Stay_In_Current_City_Years|Marital_Status|Product_Category_1|Product_Category_2|Product_Category_3|Age_le|Gender_le|Stay_In_Current_City_Years_le|City_Category_le|Occupation_le|   Gender_OHE|City_Category_OHE|Occupation_OHE|\n",
            "+-------+----------+------+-----+----------+-------------+--------------------------+--------------+------------------+------------------+------------------+------+---------+-----------------------------+----------------+-------------+-------------+-----------------+--------------+\n",
            "|1000004| P00128942|     M|46-50|         7|            B|                         2|             1|                 1|                11|                -1|   3.0|      0.0|                          1.0|             0.0|          2.0|(1,[0],[1.0])|    (2,[0],[1.0])|(20,[2],[1.0])|\n",
            "|1000009| P00113442|     M|26-35|        17|            C|                         0|             0|                 3|                 5|                -1|   0.0|      0.0|                          4.0|             1.0|          4.0|(1,[0],[1.0])|    (2,[1],[1.0])|(20,[4],[1.0])|\n",
            "|1000010| P00288442|     F|36-45|         1|            B|                        4+|             1|                 5|                14|                -1|   1.0|      1.0|                          3.0|             0.0|          3.0|    (1,[],[])|    (2,[0],[1.0])|(20,[3],[1.0])|\n",
            "|1000010| P00145342|     F|36-45|         1|            B|                        4+|             1|                 4|                 9|                -1|   1.0|      1.0|                          3.0|             0.0|          3.0|    (1,[],[])|    (2,[0],[1.0])|(20,[3],[1.0])|\n",
            "|1000011| P00053842|     F|26-35|         1|            C|                         1|             0|                 4|                 5|                12|   0.0|      1.0|                          0.0|             1.0|          3.0|    (1,[],[])|    (2,[1],[1.0])|(20,[3],[1.0])|\n",
            "+-------+----------+------+-----+----------+-------------+--------------------------+--------------+------------------+------------------+------------------+------+---------+-----------------------------+----------------+-------------+-------------+-----------------+--------------+\n",
            "only showing top 5 rows\n",
            "\n"
          ]
        }
      ],
      "source": [
        "LE_Occupation = StringIndexer(inputCol=\"Occupation\",outputCol=\"Occupation_le\",handleInvalid=\"skip\")\n",
        "LE_test = LE_Occupation.fit(test_le)\n",
        "test_le = LE_train.transform(test_le)\n",
        "\n",
        "OHE_test = OneHotEncoder(inputCol=\"Gender_le\",outputCol=\"Gender_OHE\")\n",
        "OHE_obj = OHE_test.fit(test_le)\n",
        "encoded_test = OHE_obj.transform(test_le)\n",
        "\n",
        "OHE_test = OneHotEncoder(inputCol=\"City_Category_le\",outputCol=\"City_Category_OHE\")\n",
        "OHE_obj = OHE_test.fit(encoded_test)\n",
        "encoded_test = OHE_obj.transform(encoded_test)\n",
        "\n",
        "OHE_test = OneHotEncoder(inputCol=\"Occupation_le\",outputCol=\"Occupation_OHE\")\n",
        "OHE_obj = OHE_test.fit(encoded_test)\n",
        "encoded_test = OHE_obj.transform(encoded_test)\n",
        "\n",
        "encoded_test.show(5)"
      ]
    },
    {
      "cell_type": "code",
      "execution_count": 39,
      "id": "43b58fd9",
      "metadata": {
        "colab": {
          "base_uri": "https://localhost:8080/"
        },
        "id": "43b58fd9",
        "outputId": "505592ab-c109-40be-cace-8a085115d566"
      },
      "outputs": [
        {
          "output_type": "execute_result",
          "data": {
            "text/plain": [
              "['User_ID',\n",
              " 'Product_ID',\n",
              " 'Gender',\n",
              " 'Age',\n",
              " 'Occupation',\n",
              " 'City_Category',\n",
              " 'Stay_In_Current_City_Years',\n",
              " 'Marital_Status',\n",
              " 'Product_Category_1',\n",
              " 'Product_Category_2',\n",
              " 'Product_Category_3',\n",
              " 'Purchase',\n",
              " 'Age_le',\n",
              " 'Gender_le',\n",
              " 'Stay_In_Current_City_Years_le',\n",
              " 'City_Category_le',\n",
              " 'Occupation_le',\n",
              " 'Gender_OHE',\n",
              " 'City_Category_OHE',\n",
              " 'Occupation_OHE']"
            ]
          },
          "metadata": {},
          "execution_count": 39
        }
      ],
      "source": [
        "encoded_train.columns"
      ]
    },
    {
      "cell_type": "markdown",
      "id": "30fec5b6",
      "metadata": {
        "id": "30fec5b6"
      },
      "source": [
        "# Base Line Model"
      ]
    },
    {
      "cell_type": "markdown",
      "id": "375066e8",
      "metadata": {
        "id": "375066e8"
      },
      "source": [
        "Vector Assembler"
      ]
    },
    {
      "cell_type": "code",
      "execution_count": 40,
      "id": "edbbced9",
      "metadata": {
        "id": "edbbced9"
      },
      "outputs": [],
      "source": [
        "from pyspark.ml.feature import VectorAssembler\n",
        "\n",
        "assembler = VectorAssembler(inputCols=['Marital_Status', 'Product_Category_1',\n",
        "                                       'Product_Category_2', 'Product_Category_3', 'Age_le', 'Gender_le',\n",
        "                                       'Stay_In_Current_City_Years_le', 'City_Category_le', 'Occupation_le',\n",
        "                                       'Gender_OHE', 'City_Category_OHE', 'Occupation_OHE'],\n",
        "                            outputCol=\"vector_features\")\n",
        "vector_train = assembler.transform(encoded_train)\n",
        "vector_test = assembler.transform(encoded_test)"
      ]
    },
    {
      "cell_type": "code",
      "execution_count": 41,
      "id": "ff2abfcf",
      "metadata": {
        "colab": {
          "base_uri": "https://localhost:8080/"
        },
        "id": "ff2abfcf",
        "outputId": "20fbfcb4-cd4f-4ea6-bbee-f02b40191f14"
      },
      "outputs": [
        {
          "output_type": "stream",
          "name": "stdout",
          "text": [
            "+--------------------+\n",
            "|     vector_features|\n",
            "+--------------------+\n",
            "|(32,[1,2,3,4,5,6,...|\n",
            "|(32,[1,2,3,4,5,6,...|\n",
            "|(32,[1,2,3,4,5,6,...|\n",
            "|(32,[1,2,3,4,5,6,...|\n",
            "|(32,[1,2,3,4,6,7,...|\n",
            "|(32,[1,2,3,6,7,8,...|\n",
            "|(32,[0,1,2,3,4,6,...|\n",
            "|(32,[0,1,2,3,4,6,...|\n",
            "|(32,[0,1,2,3,4,6,...|\n",
            "|(32,[0,1,2,3,7,8,...|\n",
            "|(32,[0,1,2,3,7,8,...|\n",
            "|(32,[0,1,2,3,7,8,...|\n",
            "|(32,[0,1,2,3,7,8,...|\n",
            "|(32,[0,1,2,3,7,8,...|\n",
            "|(32,[1,2,3,4,5,7,...|\n",
            "|(32,[1,2,3,4,5,7,...|\n",
            "|(32,[1,2,3,4,5,7,...|\n",
            "|(32,[1,2,3,4,5,7,...|\n",
            "|(32,[0,1,2,3,4,8,...|\n",
            "|(32,[0,1,2,3,6,7,...|\n",
            "+--------------------+\n",
            "only showing top 20 rows\n",
            "\n"
          ]
        }
      ],
      "source": [
        "vector_train.select(\"vector_features\").show()"
      ]
    },
    {
      "cell_type": "code",
      "execution_count": 42,
      "id": "f5b34e2f",
      "metadata": {
        "colab": {
          "base_uri": "https://localhost:8080/"
        },
        "id": "f5b34e2f",
        "outputId": "877e8931-1dcb-45b6-ad46-43fa39636ca4"
      },
      "outputs": [
        {
          "output_type": "stream",
          "name": "stdout",
          "text": [
            "+--------------------+\n",
            "|     vector_features|\n",
            "+--------------------+\n",
            "|(32,[0,1,2,3,4,6,...|\n",
            "|(32,[1,2,3,6,7,8,...|\n",
            "|(32,[0,1,2,3,4,5,...|\n",
            "|(32,[0,1,2,3,4,5,...|\n",
            "|(32,[1,2,3,5,7,8,...|\n",
            "|(32,[0,1,2,3,4,6,...|\n",
            "|(32,[0,1,2,3,4,6,...|\n",
            "|(32,[0,1,2,3,4,6,...|\n",
            "|(32,[1,2,3,7,8,9,...|\n",
            "|(32,[1,2,3,4,6,7,...|\n",
            "|(32,[0,1,2,3,6,8,...|\n",
            "|(32,[0,1,2,3,6,8,...|\n",
            "|(32,[0,1,2,3,6,8,...|\n",
            "|(32,[0,1,2,3,6,8,...|\n",
            "|(32,[0,1,2,3,5,6,...|\n",
            "|(32,[1,2,3,4,7,8,...|\n",
            "|(32,[0,1,2,3,4,7,...|\n",
            "|(32,[0,1,2,3,4,7,...|\n",
            "|(32,[1,2,3,4,5,6,...|\n",
            "|(32,[0,1,2,3,4,6,...|\n",
            "+--------------------+\n",
            "only showing top 20 rows\n",
            "\n"
          ]
        }
      ],
      "source": [
        "vector_test.select(\"vector_features\").show()"
      ]
    },
    {
      "cell_type": "code",
      "execution_count": 43,
      "id": "3b2eae19",
      "metadata": {
        "colab": {
          "base_uri": "https://localhost:8080/"
        },
        "id": "3b2eae19",
        "outputId": "f6a8a35f-4d07-4ab9-949e-f43289743608"
      },
      "outputs": [
        {
          "output_type": "stream",
          "name": "stdout",
          "text": [
            "root\n",
            " |-- User_ID: integer (nullable = true)\n",
            " |-- Product_ID: string (nullable = true)\n",
            " |-- Gender: string (nullable = true)\n",
            " |-- Age: string (nullable = true)\n",
            " |-- Occupation: integer (nullable = true)\n",
            " |-- City_Category: string (nullable = true)\n",
            " |-- Stay_In_Current_City_Years: string (nullable = true)\n",
            " |-- Marital_Status: integer (nullable = true)\n",
            " |-- Product_Category_1: integer (nullable = true)\n",
            " |-- Product_Category_2: integer (nullable = false)\n",
            " |-- Product_Category_3: integer (nullable = false)\n",
            " |-- Purchase: integer (nullable = true)\n",
            " |-- Age_le: double (nullable = false)\n",
            " |-- Gender_le: double (nullable = false)\n",
            " |-- Stay_In_Current_City_Years_le: double (nullable = false)\n",
            " |-- City_Category_le: double (nullable = false)\n",
            " |-- Occupation_le: double (nullable = false)\n",
            " |-- Gender_OHE: vector (nullable = true)\n",
            " |-- City_Category_OHE: vector (nullable = true)\n",
            " |-- Occupation_OHE: vector (nullable = true)\n",
            " |-- vector_features: vector (nullable = true)\n",
            "\n"
          ]
        }
      ],
      "source": [
        "vector_train.printSchema()"
      ]
    },
    {
      "cell_type": "markdown",
      "id": "c48daa69",
      "metadata": {
        "id": "c48daa69"
      },
      "source": [
        "Base Model"
      ]
    },
    {
      "cell_type": "code",
      "execution_count": 44,
      "id": "17a8f6ae",
      "metadata": {
        "id": "17a8f6ae"
      },
      "outputs": [],
      "source": [
        "from pyspark.ml.regression import DecisionTreeRegressor\n",
        "from pyspark.ml.evaluation import RegressionEvaluator\n",
        "\n",
        "(training_data, test_data) = vector_train.randomSplit([0.75, 0.25], seed=42)\n",
        "Model_DT = DecisionTreeRegressor(featuresCol=\"vector_features\", labelCol=\"Purchase\")\n",
        "Model_DT= Model_DT.fit(training_data)"
      ]
    },
    {
      "cell_type": "code",
      "execution_count": 45,
      "id": "b08811d5",
      "metadata": {
        "colab": {
          "base_uri": "https://localhost:8080/"
        },
        "id": "b08811d5",
        "outputId": "48d4fa97-6546-4715-c28b-d63e6055764d"
      },
      "outputs": [
        {
          "output_type": "stream",
          "name": "stdout",
          "text": [
            "R-squared Score: 0.5432348551475981 \n",
            "RMSE score: 3399.260634974966\n"
          ]
        }
      ],
      "source": [
        "prediction = Model_DT.transform(test_data)\n",
        "evaluator = RegressionEvaluator(labelCol=\"Purchase\", predictionCol=\"prediction\", metricName=\"r2\")\n",
        "r2_score = evaluator.evaluate(prediction)\n",
        "\n",
        "evaluator = RegressionEvaluator(labelCol=\"Purchase\", predictionCol=\"prediction\", metricName=\"rmse\")\n",
        "rmse_score = evaluator.evaluate(prediction)\n",
        "# Print the R-squared score for test data\n",
        "print(\"R-squared Score:\", r2_score,\"\\nRMSE score:\", rmse_score)"
      ]
    },
    {
      "cell_type": "code",
      "execution_count": 46,
      "id": "933e7a7c",
      "metadata": {
        "colab": {
          "base_uri": "https://localhost:8080/"
        },
        "id": "933e7a7c",
        "outputId": "7313f17c-5e65-4228-cbb5-6adb5feffba5"
      },
      "outputs": [
        {
          "output_type": "stream",
          "name": "stdout",
          "text": [
            "R-squared Score: 0.5445869052262053 \n",
            "RMSE score: 3388.291787192326\n"
          ]
        }
      ],
      "source": [
        "prediction = Model_DT.transform(training_data)\n",
        "evaluator = RegressionEvaluator(labelCol=\"Purchase\", predictionCol=\"prediction\", metricName=\"r2\")\n",
        "r2_score = evaluator.evaluate(prediction)\n",
        "\n",
        "# Print the R-squared score for train data\n",
        "evaluator = RegressionEvaluator(labelCol=\"Purchase\", predictionCol=\"prediction\", metricName=\"rmse\")\n",
        "rmse_score = evaluator.evaluate(prediction)\n",
        "print(\"R-squared Score:\", r2_score,\"\\nRMSE score:\", rmse_score)"
      ]
    },
    {
      "cell_type": "markdown",
      "id": "c1254939",
      "metadata": {
        "id": "c1254939"
      },
      "source": [
        "Choosing Better model(Gradient Booster)"
      ]
    },
    {
      "cell_type": "code",
      "execution_count": 47,
      "id": "b2b4f5cf",
      "metadata": {
        "id": "b2b4f5cf"
      },
      "outputs": [],
      "source": [
        "from pyspark.ml.regression import GBTRegressor\n",
        "Model_GB = GBTRegressor(featuresCol=\"vector_features\", labelCol=\"Purchase\")\n",
        "Model_GB= Model_GB.fit(training_data)"
      ]
    },
    {
      "cell_type": "code",
      "execution_count": 48,
      "id": "6e604628",
      "metadata": {
        "colab": {
          "base_uri": "https://localhost:8080/"
        },
        "id": "6e604628",
        "outputId": "ab788e97-20c3-4f91-e7c7-85220d30f37e"
      },
      "outputs": [
        {
          "output_type": "stream",
          "name": "stdout",
          "text": [
            "R-squared Score: 0.6529017316899641 \n",
            "RMSE score: 2963.2221435873735\n"
          ]
        }
      ],
      "source": [
        "prediction = Model_GB.transform(test_data)\n",
        "evaluator = RegressionEvaluator(labelCol=\"Purchase\", predictionCol=\"prediction\", metricName=\"r2\")\n",
        "r2_score = evaluator.evaluate(prediction)\n",
        "\n",
        "evaluator = RegressionEvaluator(labelCol=\"Purchase\", predictionCol=\"prediction\", metricName=\"rmse\")\n",
        "rmse_score = evaluator.evaluate(prediction)\n",
        "# Print the R-squared score test data\n",
        "print(\"R-squared Score:\", r2_score,\"\\nRMSE score:\", rmse_score)"
      ]
    },
    {
      "cell_type": "code",
      "execution_count": 49,
      "id": "6703b3e5",
      "metadata": {
        "colab": {
          "base_uri": "https://localhost:8080/"
        },
        "id": "6703b3e5",
        "outputId": "166561ed-b8b2-42fd-b2d7-4fa270f8c14b"
      },
      "outputs": [
        {
          "output_type": "stream",
          "name": "stdout",
          "text": [
            "R-squared Score: 0.6527663403913098 \n",
            "RMSE score: 2958.618406946371\n"
          ]
        }
      ],
      "source": [
        "prediction = Model_GB.transform(training_data)\n",
        "evaluator = RegressionEvaluator(labelCol=\"Purchase\", predictionCol=\"prediction\", metricName=\"r2\")\n",
        "r2_score = evaluator.evaluate(prediction)\n",
        "\n",
        "evaluator = RegressionEvaluator(labelCol=\"Purchase\", predictionCol=\"prediction\", metricName=\"rmse\")\n",
        "rmse_score = evaluator.evaluate(prediction)\n",
        "# Print the R-squared score for train data\n",
        "print(\"R-squared Score:\", r2_score,\"\\nRMSE score:\", rmse_score)"
      ]
    },
    {
      "cell_type": "code",
      "execution_count": 50,
      "id": "ed151b7d",
      "metadata": {
        "colab": {
          "base_uri": "https://localhost:8080/"
        },
        "id": "ed151b7d",
        "outputId": "0e6ecc33-0f7c-4a28-9d6b-d3c331989ba6"
      },
      "outputs": [
        {
          "output_type": "stream",
          "name": "stdout",
          "text": [
            "+-------+----------+------------------+\n",
            "|User_ID|Product_ID|        prediction|\n",
            "+-------+----------+------------------+\n",
            "|1000004| P00128942|13604.075859744866|\n",
            "|1000009| P00113442|10005.284305217088|\n",
            "|1000010| P00288442| 6203.351088966585|\n",
            "|1000010| P00145342|2379.1003496817734|\n",
            "|1000011| P00053842| 2254.220547197046|\n",
            "|1000013| P00350442|11096.508291875527|\n",
            "|1000013| P00155442| 13712.96676207319|\n",
            "|1000013|  P0094542|11066.356644282409|\n",
            "|1000015| P00161842|17722.663875606035|\n",
            "|1000022| P00067942| 6056.022786774092|\n",
            "+-------+----------+------------------+\n",
            "only showing top 10 rows\n",
            "\n"
          ]
        }
      ],
      "source": [
        "final_data = Model_GB.transform(vector_test)\n",
        "final_data.select(\"User_ID\",\"Product_ID\",\"prediction\").show(10)"
      ]
    },
    {
      "cell_type": "markdown",
      "id": "fe590a0b",
      "metadata": {
        "id": "fe590a0b"
      },
      "source": [
        "Feature Engineering"
      ]
    },
    {
      "cell_type": "code",
      "execution_count": 51,
      "id": "66ed412f",
      "metadata": {
        "colab": {
          "base_uri": "https://localhost:8080/"
        },
        "id": "66ed412f",
        "outputId": "13d6022f-05e1-4027-e680-8ff4eb76659b"
      },
      "outputs": [
        {
          "output_type": "stream",
          "name": "stdout",
          "text": [
            "Marital_Status 0.0002594737668745476\n",
            "Product_Category_1 0.9382925481082617\n",
            "Product_Category_2 0.020020247377938463\n",
            "Product_Category_3 0.01472183966730809\n",
            "Age_le 0.006345633372363194\n",
            "Gender_le 0.0005863304358550551\n",
            "Stay_In_Current_City_Years_le 0.003091138345193482\n",
            "City_Category_le 0.0036592941423116898\n",
            "Occupation_le 0.01192930657604661\n",
            "Gender_OHE 0.0\n",
            "City_Category_OHE 0.0\n",
            "Occupation_OHE 0.0010105415946172406\n"
          ]
        }
      ],
      "source": [
        "fi = Model_GB.featureImportances\n",
        "selected_columns = ['Marital_Status', 'Product_Category_1',\n",
        "                                       'Product_Category_2', 'Product_Category_3', 'Age_le', 'Gender_le',\n",
        "                                       'Stay_In_Current_City_Years_le', 'City_Category_le', 'Occupation_le',\n",
        "                                       'Gender_OHE', 'City_Category_OHE', 'Occupation_OHE']\n",
        "for feature, importance in zip(selected_columns, fi):\n",
        "    print(feature, importance)"
      ]
    },
    {
      "cell_type": "code",
      "execution_count": 52,
      "id": "c04cf4b9",
      "metadata": {
        "colab": {
          "base_uri": "https://localhost:8080/"
        },
        "id": "c04cf4b9",
        "outputId": "36b46f75-cf66-496c-f4ea-5bdd519d9ca4"
      },
      "outputs": [
        {
          "output_type": "stream",
          "name": "stdout",
          "text": [
            "['Product_Category_1', 'Product_Category_2', 'Product_Category_3', 'Occupation_le', 'Age_le', 'City_Category_le', 'Stay_In_Current_City_Years_le']\n"
          ]
        }
      ],
      "source": [
        "k = 7\n",
        "gbt = GBTRegressor(featuresCol=\"features\", labelCol=\"Purchase\", maxDepth=5)\n",
        "top_features = [feature for _, feature in sorted(zip(fi, selected_columns), reverse=True)[:k]]\n",
        "print(top_features)\n",
        "# assembler.setInputCols(top_features)\n",
        "# data = assembler.transform(encoded_train)\n",
        "# model = gbt.fit(data)"
      ]
    },
    {
      "cell_type": "code",
      "execution_count": 53,
      "id": "f0d755d0",
      "metadata": {
        "id": "f0d755d0"
      },
      "outputs": [],
      "source": [
        "assembler = VectorAssembler(inputCols=top_features, outputCol=\"features\")\n",
        "data = assembler.transform(training_data)\n",
        "valid = assembler.transform(test_data)"
      ]
    },
    {
      "cell_type": "code",
      "execution_count": 54,
      "id": "be43fefa",
      "metadata": {
        "id": "be43fefa"
      },
      "outputs": [],
      "source": [
        "model = gbt.fit(data)"
      ]
    },
    {
      "cell_type": "code",
      "execution_count": 55,
      "id": "878174c8",
      "metadata": {
        "colab": {
          "base_uri": "https://localhost:8080/"
        },
        "id": "878174c8",
        "outputId": "e530ed65-9238-450c-b066-0140a35d5ded"
      },
      "outputs": [
        {
          "output_type": "stream",
          "name": "stdout",
          "text": [
            "R-squared Score: 0.6537024455337623 \n",
            "RMSE score: 2959.802272085355\n"
          ]
        }
      ],
      "source": [
        "prediction = model.transform(valid)\n",
        "evaluator = RegressionEvaluator(labelCol=\"Purchase\", predictionCol=\"prediction\", metricName=\"r2\")\n",
        "r2_score = evaluator.evaluate(prediction)\n",
        "\n",
        "evaluator = RegressionEvaluator(labelCol=\"Purchase\", predictionCol=\"prediction\", metricName=\"rmse\")\n",
        "rmse_score = evaluator.evaluate(prediction)\n",
        "# Print the R-squared score for test data\n",
        "print(\"R-squared Score:\", r2_score,\"\\nRMSE score:\", rmse_score)"
      ]
    },
    {
      "cell_type": "code",
      "execution_count": 56,
      "id": "1aadb398",
      "metadata": {
        "colab": {
          "base_uri": "https://localhost:8080/"
        },
        "id": "1aadb398",
        "outputId": "2ff2bb0c-3cfe-4b0e-f03f-b40124f033e1"
      },
      "outputs": [
        {
          "output_type": "stream",
          "name": "stdout",
          "text": [
            "R-squared Score: 0.6535490597554907 \n",
            "RMSE score: 2955.281929687356\n"
          ]
        }
      ],
      "source": [
        "prediction = model.transform(data)\n",
        "evaluator = RegressionEvaluator(labelCol=\"Purchase\", predictionCol=\"prediction\", metricName=\"r2\")\n",
        "r2_score = evaluator.evaluate(prediction)\n",
        "\n",
        "evaluator = RegressionEvaluator(labelCol=\"Purchase\", predictionCol=\"prediction\", metricName=\"rmse\")\n",
        "rmse_score = evaluator.evaluate(prediction)\n",
        "# Print the R-squared score for train data\n",
        "print(\"R-squared Score:\", r2_score,\"\\nRMSE score:\", rmse_score)"
      ]
    },
    {
      "cell_type": "markdown",
      "id": "f8499aca",
      "metadata": {
        "id": "f8499aca"
      },
      "source": [
        "#  grid search cv for model improvement"
      ]
    },
    {
      "cell_type": "code",
      "execution_count": 57,
      "id": "2a21bbb0",
      "metadata": {
        "id": "2a21bbb0"
      },
      "outputs": [],
      "source": [
        "from pyspark.ml.tuning import CrossValidator, ParamGridBuilder\n",
        "gbt = GBTRegressor(featuresCol=\"features\", labelCol=\"Purchase\")\n",
        "param_grid = ParamGridBuilder() \\\n",
        "    .addGrid(gbt.maxDepth, [10,20]) \\\n",
        "    .addGrid(gbt.maxBins, [30,40]) \\\n",
        "    .addGrid(gbt.stepSize, [0.1, 0.01]) \\\n",
        "    .build()"
      ]
    },
    {
      "cell_type": "code",
      "execution_count": 58,
      "id": "ff5c332d",
      "metadata": {
        "id": "ff5c332d"
      },
      "outputs": [],
      "source": [
        "cv_GB = CrossValidator(estimator=gbt, estimatorParamMaps=param_grid, evaluator=evaluator, numFolds=3)\n",
        "cv_model = cv_GB.fit(data)\n",
        "best_model = cv_model.bestModel"
      ]
    },
    {
      "cell_type": "code",
      "execution_count": 59,
      "id": "d0d1488d",
      "metadata": {
        "colab": {
          "base_uri": "https://localhost:8080/"
        },
        "id": "d0d1488d",
        "outputId": "e50fd691-a3e8-43df-c878-c08888c7fd60"
      },
      "outputs": [
        {
          "output_type": "stream",
          "name": "stdout",
          "text": [
            "0.6945482376221294\n"
          ]
        }
      ],
      "source": [
        "prediction = best_model.transform(valid)\n",
        "evaluator = RegressionEvaluator(labelCol=\"Purchase\", predictionCol=\"prediction\", metricName=\"r2\")\n",
        "r2_score = evaluator.evaluate(prediction)\n",
        "# Print the R-squared score for test data\n",
        "print(r2_score)"
      ]
    },
    {
      "cell_type": "code",
      "execution_count": 60,
      "id": "287bbfb4",
      "metadata": {
        "colab": {
          "base_uri": "https://localhost:8080/"
        },
        "id": "287bbfb4",
        "outputId": "b87a11c5-0ef3-4b35-e6fa-08f8aa505dbd"
      },
      "outputs": [
        {
          "output_type": "stream",
          "name": "stdout",
          "text": [
            "0.6963517622289211\n"
          ]
        }
      ],
      "source": [
        "prediction = best_model.transform(data)\n",
        "evaluator = RegressionEvaluator(labelCol=\"Purchase\", predictionCol=\"prediction\", metricName=\"r2\")\n",
        "r2_score = evaluator.evaluate(prediction)\n",
        "# Print the R-squared score for train data\n",
        "print(r2_score)"
      ]
    },
    {
      "cell_type": "code",
      "execution_count": 61,
      "id": "f45a9fce",
      "metadata": {
        "colab": {
          "base_uri": "https://localhost:8080/"
        },
        "id": "f45a9fce",
        "outputId": "65ad4e31-b6cb-4272-ed0a-5abd3dd72d40"
      },
      "outputs": [
        {
          "output_type": "stream",
          "name": "stdout",
          "text": [
            "Max Depth: 10\n",
            "Max Bins: 30\n"
          ]
        }
      ],
      "source": [
        "print(\"Max Depth:\", best_model.getMaxDepth())\n",
        "print(\"Max Bins:\", best_model.getMaxBins())"
      ]
    },
    {
      "cell_type": "markdown",
      "id": "d87adf49",
      "metadata": {
        "id": "d87adf49"
      },
      "source": [
        "# Pipeline"
      ]
    },
    {
      "cell_type": "code",
      "execution_count": 62,
      "id": "0d7f1cca",
      "metadata": {
        "id": "0d7f1cca"
      },
      "outputs": [],
      "source": [
        "from pyspark.ml import Pipeline,Transformer\n",
        "from pyspark.ml.param.shared import HasInputCol,HasOutputCol,Param"
      ]
    },
    {
      "cell_type": "code",
      "execution_count": 63,
      "id": "e09ccab0",
      "metadata": {
        "id": "e09ccab0"
      },
      "outputs": [],
      "source": [
        "from pyspark.ml.util import DefaultParamsWritable, DefaultParamsReadable\n",
        "\n",
        "class NullValuesTransformer(Transformer, DefaultParamsWritable):\n",
        "    def __init__(self):\n",
        "        super(NullValuesTransformer, self).__init__()\n",
        "\n",
        "    def _transform(self, dataframe):\n",
        "        dataframe = dataframe.fillna({\n",
        "            \"Product_Category_2\": -1,\n",
        "            \"Product_Category_3\": -1\n",
        "        })\n",
        "        return dataframe\n",
        "\n",
        "    def copy(self, extra=None):\n",
        "        return Params.copy(self, extra)"
      ]
    },
    {
      "cell_type": "code",
      "execution_count": 64,
      "id": "7ab1a8e5",
      "metadata": {
        "id": "7ab1a8e5"
      },
      "outputs": [],
      "source": [
        "stage1 = NullValuesTransformer()\n",
        "stage2 = StringIndexer(inputCol=\"Age\",outputCol=\"Age_le\",handleInvalid=\"skip\")\n",
        "stage3 = StringIndexer(inputCol=\"Gender\",outputCol=\"Gender_le\",handleInvalid=\"skip\")\n",
        "stage4 = StringIndexer(inputCol=\"Stay_In_Current_City_Years\",outputCol=\"Stay_In_Current_City_Years_le\",handleInvalid=\"skip\")\n",
        "stage5 = StringIndexer(inputCol=\"City_Category\",outputCol=\"City_Category_le\",handleInvalid=\"skip\")\n",
        "stage6 = StringIndexer(inputCol=\"Occupation\",outputCol=\"Occupation_le\",handleInvalid=\"skip\")\n",
        "stage7 = OneHotEncoder(inputCol=\"Gender_le\",outputCol=\"Gender_OHE\")\n",
        "stage8 = OneHotEncoder(inputCol=\"City_Category_le\",outputCol=\"City_Category_OHE\")\n",
        "stage9 = OneHotEncoder(inputCol=\"Occupation\",outputCol=\"Occupation_OHE\")\n",
        "stage10= VectorAssembler(inputCols=top_features,\n",
        "                            outputCol=\"vector_features\")\n",
        "stage11 = GBTRegressor(featuresCol=\"vector_features\", labelCol=\"Purchase\")\n"
      ]
    },
    {
      "cell_type": "code",
      "execution_count": 65,
      "id": "ba4482d6",
      "metadata": {
        "id": "ba4482d6"
      },
      "outputs": [],
      "source": [
        "pipeline = Pipeline(stages=[stage1,stage2,stage3,stage4,\n",
        "                           stage5,stage6,stage7,stage8,\n",
        "                           stage9,stage10,stage11])"
      ]
    },
    {
      "cell_type": "code",
      "execution_count": 66,
      "id": "a0483505",
      "metadata": {
        "id": "a0483505"
      },
      "outputs": [],
      "source": [
        "(dtrain, dtest) = train.randomSplit([0.75, 0.25], seed=42)"
      ]
    },
    {
      "cell_type": "code",
      "execution_count": 67,
      "id": "78fac29d",
      "metadata": {
        "id": "78fac29d"
      },
      "outputs": [],
      "source": [
        "pipeline_model = pipeline.fit(dtrain)\n",
        "\n",
        "final_data = pipeline_model.transform(dtrain)"
      ]
    },
    {
      "cell_type": "code",
      "execution_count": 68,
      "id": "97732997",
      "metadata": {
        "colab": {
          "base_uri": "https://localhost:8080/"
        },
        "id": "97732997",
        "outputId": "8b3dcf89-262e-4880-e518-2705ee5563ad"
      },
      "outputs": [
        {
          "output_type": "stream",
          "name": "stdout",
          "text": [
            "+-------+----------+--------+------------------+\n",
            "|User_ID|Product_ID|Purchase|        prediction|\n",
            "+-------+----------+--------+------------------+\n",
            "|1000001| P00000142|   13650| 9734.628554060122|\n",
            "|1000001| P00004842|   13645| 9492.582529863323|\n",
            "|1000001| P00051842|    2849|2217.7794171484375|\n",
            "|1000001| P00059442|   16622| 15703.37940085043|\n",
            "|1000001| P00069042|    8370| 9591.346438713848|\n",
            "|1000001| P00085942|   12842|12665.517442843593|\n",
            "|1000001| P00110842|   11769|13103.299941140234|\n",
            "|1000001| P00111842|    8094| 7344.005528523275|\n",
            "|1000001| P00117942|    8839| 6042.174664429319|\n",
            "|1000001| P00165942|   10003| 7344.005528523275|\n",
            "+-------+----------+--------+------------------+\n",
            "only showing top 10 rows\n",
            "\n"
          ]
        }
      ],
      "source": [
        "final_data.select(\"User_ID\",\"Product_ID\",\"Purchase\",\"prediction\").show(10)"
      ]
    },
    {
      "cell_type": "code",
      "execution_count": 71,
      "id": "8d53e170",
      "metadata": {
        "colab": {
          "base_uri": "https://localhost:8080/"
        },
        "id": "8d53e170",
        "outputId": "75904460-7f72-400b-b86d-58374cca0793"
      },
      "outputs": [
        {
          "output_type": "stream",
          "name": "stdout",
          "text": [
            "+-------+----------+--------+------------------+\n",
            "|User_ID|Product_ID|Purchase|        prediction|\n",
            "+-------+----------+--------+------------------+\n",
            "|1000001| P00051442|    9938| 7781.368812042285|\n",
            "|1000001| P00085442|    1057|1560.9462065103264|\n",
            "|1000001| P00087842|    1422|1560.9462065103264|\n",
            "|1000001| P00102642|    2763|2524.7069278030926|\n",
            "|1000001| P00142242|    7882| 7344.005528523275|\n",
            "|1000001| P00210342|   11039| 9513.948973340584|\n",
            "|1000001| P00258742|    6910| 5998.968411651766|\n",
            "|1000002| P00044442|   15669| 14253.15263507992|\n",
            "|1000002| P00062842|   15699|14309.048825733958|\n",
            "|1000002| P00112842|    6187| 7915.040815281675|\n",
            "+-------+----------+--------+------------------+\n",
            "only showing top 10 rows\n",
            "\n"
          ]
        }
      ],
      "source": [
        "final_test = pipeline_model.transform(dtest)\n",
        "final_test.select(\"User_ID\",\"Product_ID\",\"Purchase\",\"prediction\").show(10)"
      ]
    },
    {
      "cell_type": "code",
      "execution_count": 70,
      "id": "888ad7a2",
      "metadata": {
        "colab": {
          "base_uri": "https://localhost:8080/"
        },
        "id": "888ad7a2",
        "outputId": "b58f715e-7ca7-4432-eaa6-5372305fff59"
      },
      "outputs": [
        {
          "output_type": "stream",
          "name": "stdout",
          "text": [
            "Test Score 0.6537024455337623 \n",
            "Train score 0.6535490597554907\n"
          ]
        }
      ],
      "source": [
        "predictions = final_test.select(\"prediction\")\n",
        "actual_purchase = final_test.select(\"Purchase\")\n",
        "predictions = final_data.select(\"prediction\")\n",
        "actual_purchase = final_data.select(\"Purchase\")\n",
        "evaluator = RegressionEvaluator(labelCol=\"Purchase\", predictionCol=\"prediction\", metricName=\"r2\")\n",
        "r2_score_test = evaluator.evaluate(final_test)\n",
        "r2_score_train = evaluator.evaluate(final_data)\n",
        "print(\"Test Score\",r2_score_test,\"\\nTrain score\",r2_score_train)"
      ]
    },
    {
      "cell_type": "code",
      "execution_count": 72,
      "id": "4094f1c6",
      "metadata": {
        "colab": {
          "base_uri": "https://localhost:8080/"
        },
        "id": "4094f1c6",
        "outputId": "ef05e52f-c480-45d4-aa83-8272028a1d78"
      },
      "outputs": [
        {
          "output_type": "stream",
          "name": "stdout",
          "text": [
            "+-------+----------+------------------+\n",
            "|User_ID|Product_ID|        prediction|\n",
            "+-------+----------+------------------+\n",
            "|1000004| P00128942|13654.657424189727|\n",
            "|1000009| P00113442|10011.306417033258|\n",
            "|1000010| P00288442| 6262.814620793571|\n",
            "|1000010| P00145342|2438.4193735126905|\n",
            "|1000011| P00053842|2279.5752525659004|\n",
            "|1000013| P00350442|11194.717198651011|\n",
            "|1000013| P00155442|13649.320828755763|\n",
            "|1000013|  P0094542|11144.099149730208|\n",
            "|1000015| P00161842|17642.378546728633|\n",
            "|1000022| P00067942| 6090.755831515424|\n",
            "+-------+----------+------------------+\n",
            "only showing top 10 rows\n",
            "\n"
          ]
        }
      ],
      "source": [
        "final_data = pipeline_model.transform(test)\n",
        "final_data.select(\"User_ID\",\"Product_ID\",\"prediction\").show(10)"
      ]
    },
    {
      "cell_type": "code",
      "execution_count": null,
      "id": "05bad621",
      "metadata": {
        "id": "05bad621"
      },
      "outputs": [],
      "source": []
    }
  ],
  "metadata": {
    "kernelspec": {
      "display_name": "Python 3",
      "language": "python",
      "name": "python3"
    },
    "language_info": {
      "codemirror_mode": {
        "name": "ipython",
        "version": 3
      },
      "file_extension": ".py",
      "mimetype": "text/x-python",
      "name": "python",
      "nbconvert_exporter": "python",
      "pygments_lexer": "ipython3",
      "version": "3.6.12"
    },
    "colab": {
      "provenance": []
    }
  },
  "nbformat": 4,
  "nbformat_minor": 5
}